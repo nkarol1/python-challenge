{
 "cells": [
  {
   "cell_type": "markdown",
   "id": "a533c45d-1235-4228-a273-8761e5da28eb",
   "metadata": {
    "tags": []
   },
   "source": [
    "from pathlib import Path\n",
    "import csv"
   ]
  },
  {
   "cell_type": "code",
   "execution_count": 20,
   "id": "83687013-c430-4fa5-a4c0-a114a967cb4a",
   "metadata": {
    "tags": []
   },
   "outputs": [],
   "source": [
    "csvpath = Path('Resources/budget_data.csv')\n",
    "output_path = Path('Financial.txt')"
   ]
  },
  {
   "cell_type": "code",
   "execution_count": 21,
   "id": "9d2ddaa4-cc46-44a8-b361-41f6f1f9ad55",
   "metadata": {
    "tags": []
   },
   "outputs": [],
   "source": [
    "months = 0\n",
    "total = 0\n",
    "data=[]"
   ]
  },
  {
   "cell_type": "code",
   "execution_count": 22,
   "id": "5cd5f4b9-f7b2-43ae-97ef-0d21cc376975",
   "metadata": {
    "tags": []
   },
   "outputs": [],
   "source": [
    "# Open the input path as a file object\n",
    "with open(csvpath, 'r') as csvfile:\n",
    "    # Pass in the csv file to the csv.reader() function\n",
    "    # (with ',' as the delmiter/separator) and return the csvreader object\n",
    "    csvreader = csv.reader(csvfile, delimiter=',')\n",
    "\n",
    "    # Go to the next row from the start of the file\n",
    "    header = next(csvreader)\n",
    "    \n",
    "    # Read each row of data after the header\n",
    "    for row in csvreader:\n",
    "        # Set variables equal to the value in each column of each row\n",
    "        amount = int(row[1])\n",
    "        datarow = { \"date\" : row[0], \"amount\" : amount}\n",
    "        # Append the row value to the list\n",
    "        data.append(datarow)\n",
    "        months += 1\n",
    "        total += amount"
   ]
  },
  {
   "cell_type": "code",
   "execution_count": 23,
   "id": "dcb696e9-9f70-414b-bf0c-ca91dc9378fb",
   "metadata": {
    "tags": []
   },
   "outputs": [],
   "source": [
    "greatest_increase = {\"date\" : \"\" ,  \"amount\" : 0}\n",
    "greatest_decrease = {\"date\" : \"\" , \"amount\" : 0}"
   ]
  },
  {
   "cell_type": "code",
   "execution_count": 24,
   "id": "ef8ff6d5-e46a-4f99-915f-efd8c2f38704",
   "metadata": {
    "tags": []
   },
   "outputs": [],
   "source": [
    "average = round(total/months, 2)"
   ]
  },
  {
   "cell_type": "code",
   "execution_count": 25,
   "id": "a0617575-00d3-4f2c-b952-4efc9e794bb9",
   "metadata": {
    "tags": []
   },
   "outputs": [],
   "source": [
    "max_value = data[0][\"amount\"]\n",
    "min_value = data[0][\"amount\"]"
   ]
  },
  {
   "cell_type": "code",
   "execution_count": 26,
   "id": "101cc1ba-380a-4cd5-9b26-c9f29c5d8b75",
   "metadata": {
    "tags": []
   },
   "outputs": [],
   "source": [
    "for d in data:\n",
    "    if d[\"amount\"]>max_value:\n",
    "        max_value = d[\"amount\"]\n",
    "        greatest_increase[\"date\"] = d[\"date\"]\n",
    "        greatest_increase[\"amount\"] = d[\"amount\"]"
   ]
  },
  {
   "cell_type": "code",
   "execution_count": 27,
   "id": "ab4fb961-1770-41d0-bb31-e2e2988b7bde",
   "metadata": {
    "tags": []
   },
   "outputs": [],
   "source": [
    "for d in data:\n",
    "    if d[\"amount\"]<min_value:\n",
    "        min_value = d[\"amount\"]\n",
    "        greatest_decrease[\"date\"] = d[\"date\"]\n",
    "        greatest_decrease[\"amount\"] = d[\"amount\"]"
   ]
  },
  {
   "cell_type": "code",
   "execution_count": 28,
   "id": "31ed9e8b-6ae8-4014-be1d-8a45e9939664",
   "metadata": {
    "tags": []
   },
   "outputs": [],
   "source": [
    "def print_and_write(file,text):\n",
    "    print(text)\n",
    "    file.write(text+\"\\n\")"
   ]
  },
  {
   "cell_type": "code",
   "execution_count": 29,
   "id": "7647e575-0b42-4cff-ba1f-792a61ffa93a",
   "metadata": {
    "tags": []
   },
   "outputs": [
    {
     "name": "stdout",
     "output_type": "stream",
     "text": [
      "  Financial Analysis\n",
      "  ----------------------------\n",
      "  Total Months: 86\n",
      "  Total: $38382578.00\n",
      "  Average  Change: $446309.05\n",
      "  Greatest Increase in Profits: Feb-2012 ($1170593.00)\n",
      "  Greatest Decrease in Profits: Sep-2013 ($-1196225.00)\n"
     ]
    }
   ],
   "source": [
    "#print the analysis to the terminal         \n",
    "#export a text file with the results\n",
    "with open(output_path, 'w') as file:\n",
    "    print_and_write(file, f\"  Financial Analysis\")\n",
    "    print_and_write(file, f\"  ----------------------------\")\n",
    "    print_and_write(file, f\"  Total Months: {months}\")\n",
    "    print_and_write(file, f\"  Total: ${total:.2f}\")\n",
    "    print_and_write(file, f\"  Average  Change: ${average:.2f}\")\n",
    "    print_and_write(file, f\"  Greatest Increase in Profits: {greatest_increase['date']} (${round(greatest_increase['amount'], 2):.2f})\")\n",
    "    print_and_write(file, f\"  Greatest Decrease in Profits: {greatest_decrease['date']} (${round(greatest_decrease['amount'], 2):.2f})\")"
   ]
  },
  {
   "cell_type": "markdown",
   "id": "28f27948-ebee-4397-985c-b63944a55d32",
   "metadata": {},
   "source": []
  }
 ],
 "metadata": {
  "kernelspec": {
   "display_name": "Python 3 (ipykernel)",
   "language": "python",
   "name": "python3"
  },
  "language_info": {
   "codemirror_mode": {
    "name": "ipython",
    "version": 3
   },
   "file_extension": ".py",
   "mimetype": "text/x-python",
   "name": "python",
   "nbconvert_exporter": "python",
   "pygments_lexer": "ipython3",
   "version": "3.11.4"
  }
 },
 "nbformat": 4,
 "nbformat_minor": 5
}
